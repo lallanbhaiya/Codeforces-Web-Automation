{
 "cells": [
  {
   "cell_type": "code",
   "execution_count": 18,
   "id": "a6b5aaef",
   "metadata": {},
   "outputs": [],
   "source": [
    "from selenium import webdriver"
   ]
  },
  {
   "cell_type": "code",
   "execution_count": 19,
   "id": "6500da30",
   "metadata": {},
   "outputs": [],
   "source": [
    "from selenium.webdriver.common.by import By"
   ]
  },
  {
   "cell_type": "code",
   "execution_count": 20,
   "id": "668e4e16",
   "metadata": {},
   "outputs": [],
   "source": [
    "browser=webdriver.Chrome(\"\")"
   ]
  },
  {
   "cell_type": "code",
   "execution_count": 21,
   "id": "e07612c6",
   "metadata": {},
   "outputs": [],
   "source": [
    "browser.get(\"https://www.codeforces.com\")"
   ]
  },
  {
   "cell_type": "code",
   "execution_count": 44,
   "id": "0e72dacb",
   "metadata": {},
   "outputs": [],
   "source": [
    "enter=browser.find_element(By.XPATH,'//*[@id=\"header\"]/div[2]/div[2]/a[1]')"
   ]
  },
  {
   "cell_type": "code",
   "execution_count": 45,
   "id": "795878b1",
   "metadata": {},
   "outputs": [],
   "source": [
    "enter.click()"
   ]
  },
  {
   "cell_type": "code",
   "execution_count": 46,
   "id": "39e85629",
   "metadata": {},
   "outputs": [],
   "source": [
    "name=browser.find_element(By.XPATH,'//*[@id=\"handleOrEmail\"]')"
   ]
  },
  {
   "cell_type": "code",
   "execution_count": 47,
   "id": "f41d1375",
   "metadata": {},
   "outputs": [],
   "source": [
    "name.send_keys(\"lallanbhai\")"
   ]
  },
  {
   "cell_type": "code",
   "execution_count": 48,
   "id": "b1fa42b1",
   "metadata": {},
   "outputs": [],
   "source": [
    "password=browser.find_element(By.XPATH,'//*[@id=\"password\"]')"
   ]
  },
  {
   "cell_type": "code",
   "execution_count": 49,
   "id": "89acf802",
   "metadata": {},
   "outputs": [],
   "source": [
    "from getpass import getpass"
   ]
  },
  {
   "cell_type": "code",
   "execution_count": 50,
   "id": "add7b5a2",
   "metadata": {},
   "outputs": [
    {
     "name": "stdout",
     "output_type": "stream",
     "text": [
      "Enter your password: ········\n"
     ]
    }
   ],
   "source": [
    "password.send_keys(getpass(\"Enter your password: \"))"
   ]
  },
  {
   "cell_type": "code",
   "execution_count": 51,
   "id": "cae27a2f",
   "metadata": {},
   "outputs": [],
   "source": [
    "login=browser.find_element(By.XPATH,'/html/body/div[6]/div[4]/div/div/div/form/table/tbody/tr[4]/td/div[1]/input')"
   ]
  },
  {
   "cell_type": "code",
   "execution_count": 52,
   "id": "02e9ec55",
   "metadata": {},
   "outputs": [],
   "source": [
    "login.click()"
   ]
  },
  {
   "cell_type": "code",
   "execution_count": 53,
   "id": "5c90ad3d",
   "metadata": {},
   "outputs": [],
   "source": [
    "browser.get(\"https://codeforces.com/problemset/problem/1841/A\")"
   ]
  },
  {
   "cell_type": "code",
   "execution_count": 54,
   "id": "dbb94d16",
   "metadata": {},
   "outputs": [],
   "source": [
    "submission=browser.find_element(By.XPATH,'//*[@id=\"pageContent\"]/div[1]/ul/li[3]/a')"
   ]
  },
  {
   "cell_type": "code",
   "execution_count": 55,
   "id": "a8443a70",
   "metadata": {},
   "outputs": [],
   "source": [
    "submission.click()"
   ]
  },
  {
   "cell_type": "code",
   "execution_count": 69,
   "id": "f8a67436",
   "metadata": {},
   "outputs": [],
   "source": [
    "with open('E:\\C++\\CodeForces\\Round 150\\A.cpp','r') as file:\n",
    "    code=file.read()"
   ]
  },
  {
   "cell_type": "code",
   "execution_count": 70,
   "id": "504af595",
   "metadata": {},
   "outputs": [],
   "source": [
    "code_element=browser.find_element(By.XPATH,'//*[@id=\"editor\"]/textarea')"
   ]
  },
  {
   "cell_type": "code",
   "execution_count": 79,
   "id": "06e5fd22",
   "metadata": {},
   "outputs": [],
   "source": [
    "submit=browser.find_element(By.XPATH,'//*[@id=\"singlePageSubmitButton\"]')"
   ]
  },
  {
   "cell_type": "code",
   "execution_count": 80,
   "id": "e9829b2b",
   "metadata": {},
   "outputs": [],
   "source": [
    "submit.click()"
   ]
  },
  {
   "cell_type": "code",
   "execution_count": null,
   "id": "82bd88a0",
   "metadata": {},
   "outputs": [],
   "source": []
  }
 ],
 "metadata": {
  "kernelspec": {
   "display_name": "Python 3 (ipykernel)",
   "language": "python",
   "name": "python3"
  },
  "language_info": {
   "codemirror_mode": {
    "name": "ipython",
    "version": 3
   },
   "file_extension": ".py",
   "mimetype": "text/x-python",
   "name": "python",
   "nbconvert_exporter": "python",
   "pygments_lexer": "ipython3",
   "version": "3.10.9"
  }
 },
 "nbformat": 4,
 "nbformat_minor": 5
}
